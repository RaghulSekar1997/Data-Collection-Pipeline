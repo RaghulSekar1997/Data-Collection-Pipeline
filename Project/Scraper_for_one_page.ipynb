{
 "cells": [
  {
   "cell_type": "code",
   "execution_count": 78,
   "metadata": {},
   "outputs": [],
   "source": [
    "from selenium import webdriver\n",
    "import time \n",
    "from selenium.webdriver.common.by import By\n",
    "\n"
   ]
  },
  {
   "cell_type": "code",
   "execution_count": 79,
   "metadata": {},
   "outputs": [],
   "source": [
    "driver = webdriver.Chrome() \n",
    "URL = \"https://www.bbcgoodfood.com/search/recipes/?q=Easy+dinner+recipes&sort=-relevance\"\n",
    "driver.get(URL)"
   ]
  },
  {
   "cell_type": "code",
   "execution_count": 80,
   "metadata": {},
   "outputs": [],
   "source": [
    "time.sleep(2)\n",
    "\n",
    "try:\n",
    "     # This is the id of the frame\n",
    "    accept_cookies_button = driver.find_element(by=By.XPATH, value='/html/body/div[1]/div/div/div/div[2]/div/button[2]/span')\n",
    "\n",
    "    accept_cookies_button.click()\n",
    "\n",
    "except:\n",
    "    pass # If there is no cookies button, we won't find it, so we can pass\n"
   ]
  },
  {
   "cell_type": "code",
   "execution_count": 81,
   "metadata": {},
   "outputs": [
    {
     "name": "stdout",
     "output_type": "stream",
     "text": [
      "https://www.bbcgoodfood.com/recipes/naughty-chocolate-fudge-cake\n"
     ]
    }
   ],
   "source": [
    "time.sleep(2)\n",
    "food_recipes = driver.find_element(By.XPATH, value='/html/body/div[5]/div/form/div/div[4]/div[1]/div[1]/div/div[1]/div') # Change this xpath with the xpath the current page has in their properties\n",
    "\n",
    "a_tag = food_recipes.find_element(By.TAG_NAME, value='a')\n",
    "\n",
    "link = a_tag.get_attribute('href')\n",
    "\n",
    "print(link)\n"
   ]
  },
  {
   "cell_type": "code",
   "execution_count": 82,
   "metadata": {},
   "outputs": [],
   "source": [
    "driver.get(link)"
   ]
  },
  {
   "cell_type": "code",
   "execution_count": 83,
   "metadata": {},
   "outputs": [
    {
     "name": "stdout",
     "output_type": "stream",
     "text": [
      "Easy chocolate fudge cake\n",
      "25 mins\n",
      "30 mins\n"
     ]
    }
   ],
   "source": [
    "recipes_name = driver.find_element(by=By.XPATH, value='/html/body/div[1]/div[3]/main/div/section/div/div[3]/div[1]/h1').text\n",
    "print(recipes_name)\n",
    "Prep_time = driver.find_element(by=By.XPATH, value='/html/body/div[1]/div[3]/main/div/section/div/div[3]/ul[1]/li[1]/div/div[2]/ul/li[1]/span[2]/time').text\n",
    "print(Prep_time)\n",
    "cook_time = driver.find_element(by=By.XPATH, value='/html/body/div[1]/div[3]/main/div/section/div/div[3]/ul[1]/li[1]/div/div[2]/ul/li[2]/span[2]/time').text\n",
    "print(cook_time)\n",
    "\n"
   ]
  },
  {
   "cell_type": "code",
   "execution_count": 84,
   "metadata": {},
   "outputs": [],
   "source": [
    "dict_properties = {'Recpes_Name': [], 'Prep_time': [], 'Cook_time': []}\n",
    "recipes_name = driver.find_element(by=By.XPATH, value='/html/body/div[1]/div[3]/main/div/section/div/div[3]/div[1]/h1').text\n",
    "dict_properties['Recpes_Name'].append(recipes_name)\n",
    "Prep_time = driver.find_element(by=By.XPATH, value='/html/body/div[1]/div[3]/main/div/section/div/div[3]/ul[1]/li[1]/div/div[2]/ul/li[1]/span[2]/time').text\n",
    "dict_properties['Prep_time'].append(Prep_time)\n",
    "cook_time = driver.find_element(by=By.XPATH, value='/html/body/div[1]/div[3]/main/div/section/div/div[3]/ul[1]/li[1]/div/div[2]/ul/li[2]/span[2]/time').text\n",
    "dict_properties['Cook_time'].append(cook_time)\n",
    "\n"
   ]
  },
  {
   "cell_type": "code",
   "execution_count": 87,
   "metadata": {},
   "outputs": [
    {
     "data": {
      "text/plain": [
       "list"
      ]
     },
     "execution_count": 87,
     "metadata": {},
     "output_type": "execute_result"
    }
   ],
   "source": [
    "type(dict_properties['Recpes_Name'])"
   ]
  },
  {
   "cell_type": "code",
   "execution_count": 85,
   "metadata": {},
   "outputs": [
    {
     "data": {
      "text/plain": [
       "{'Recpes_Name': ['Easy chocolate fudge cake'],\n",
       " 'Prep_time': ['25 mins'],\n",
       " 'Cook_time': ['30 mins']}"
      ]
     },
     "execution_count": 85,
     "metadata": {},
     "output_type": "execute_result"
    }
   ],
   "source": [
    "dict_properties"
   ]
  }
 ],
 "metadata": {
  "kernelspec": {
   "display_name": "Python 3.9.12 ('DCP')",
   "language": "python",
   "name": "python3"
  },
  "language_info": {
   "codemirror_mode": {
    "name": "ipython",
    "version": 3
   },
   "file_extension": ".py",
   "mimetype": "text/x-python",
   "name": "python",
   "nbconvert_exporter": "python",
   "pygments_lexer": "ipython3",
   "version": "3.9.12"
  },
  "orig_nbformat": 4,
  "vscode": {
   "interpreter": {
    "hash": "5aeba3a6c10395433c3ffaf8b273e518cbb9ec969e669a41f720a9baabc2caf5"
   }
  }
 },
 "nbformat": 4,
 "nbformat_minor": 2
}
