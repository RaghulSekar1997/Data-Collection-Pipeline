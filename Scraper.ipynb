{
 "cells": [
  {
   "cell_type": "code",
   "execution_count": 58,
   "metadata": {},
   "outputs": [],
   "source": [
    "from selenium import webdriver\n",
    "import time \n",
    "from selenium.webdriver.common.by import By\n",
    "\n"
   ]
  },
  {
   "cell_type": "code",
   "execution_count": 59,
   "metadata": {},
   "outputs": [],
   "source": [
    "driver = webdriver.Chrome() \n",
    "URL = \"https://www.bbcgoodfood.com/search/recipes/?q=Easy+dinner+recipes&sort=-relevance\"\n",
    "driver.get(URL)"
   ]
  },
  {
   "cell_type": "code",
   "execution_count": 60,
   "metadata": {},
   "outputs": [],
   "source": [
    "time.sleep(2)\n",
    "\n",
    "try:\n",
    "     # This is the id of the frame\n",
    "    accept_cookies_button = driver.find_element(by=By.XPATH, value='/html/body/div[1]/div/div/div/div[2]/div/button[2]/span')\n",
    "\n",
    "    accept_cookies_button.click()\n",
    "\n",
    "except:\n",
    "    pass # If there is no cookies button, we won't find it, so we can pass\n"
   ]
  },
  {
   "cell_type": "code",
   "execution_count": 61,
   "metadata": {},
   "outputs": [
    {
     "name": "stdout",
     "output_type": "stream",
     "text": [
      "https://www.bbcgoodfood.com/recipes/naughty-chocolate-fudge-cake\n"
     ]
    }
   ],
   "source": [
    "time.sleep(2)\n",
    "food_recipes = driver.find_element(By.XPATH, value='/html/body/div[5]/div/form/div/div[4]/div[1]/div[1]/div/div[1]/div') # Change this xpath with the xpath the current page has in their properties\n",
    "\n",
    "a_tag = food_recipes.find_element(By.TAG_NAME, value='a')\n",
    "\n",
    "link = a_tag.get_attribute('href')\n",
    "\n",
    "print(link)\n"
   ]
  },
  {
   "cell_type": "code",
   "execution_count": 62,
   "metadata": {},
   "outputs": [],
   "source": [
    "driver.get(link)"
   ]
  }
 ],
 "metadata": {
  "kernelspec": {
   "display_name": "Python 3.9.12 ('DCP')",
   "language": "python",
   "name": "python3"
  },
  "language_info": {
   "codemirror_mode": {
    "name": "ipython",
    "version": 3
   },
   "file_extension": ".py",
   "mimetype": "text/x-python",
   "name": "python",
   "nbconvert_exporter": "python",
   "pygments_lexer": "ipython3",
   "version": "3.9.12"
  },
  "orig_nbformat": 4,
  "vscode": {
   "interpreter": {
    "hash": "5aeba3a6c10395433c3ffaf8b273e518cbb9ec969e669a41f720a9baabc2caf5"
   }
  }
 },
 "nbformat": 4,
 "nbformat_minor": 2
}
