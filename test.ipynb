{
 "cells": [
  {
   "cell_type": "code",
   "execution_count": null,
   "metadata": {},
   "outputs": [],
   "source": [
    "from selenium import webdriver\n",
    "from selenium.webdriver.common.by import By\n",
    "import time"
   ]
  },
  {
   "cell_type": "code",
   "execution_count": 3,
   "metadata": {},
   "outputs": [],
   "source": [
    "class Scraper:\n",
    "\n",
    "    def load_page(self, url) -> None:\n",
    "        \n",
    "        self.driver = webdriver.Chrome() \n",
    "        self.driver.maximize_window()\n",
    "        self.driver.get(url)\n",
    "        time.sleep(3)\n",
    "        \n",
    "        self.accept_cookies()\n",
    "\n",
    "        return None\n",
    "\n",
    "    def accept_cookies(self) -> None:\n",
    "        try:\n",
    "             # This is the id of the frame\n",
    "            accept_cookies_button = self.driver.find_element(by=By.XPATH, value='/html/body/div[1]/div/div/div/div[2]/div/button[2]/span')\n",
    "\n",
    "            accept_cookies_button.click()\n",
    "        except:\n",
    "            pass\n",
    "\n",
    "    \n",
    "    \n",
    "    def get_links(self) -> list:\n",
    "\n",
    "        recipes_container = self.driver.find_element(by=By.XPATH, value='/html/body/div[5]/div/form/div/div[4]/div[1]/div[1]/div')\n",
    "        recipes_list = recipes_container.find_elements(by=By.XPATH, value='./div')\n",
    "        link_list = []\n",
    "\n",
    "        for r_property in recipes_list:\n",
    "            a_tag = r_property.find_element(by=By.TAG_NAME, value='a')\n",
    "            link = a_tag.get_attribute('href')\n",
    "            link_list.append(link)\n",
    "        \n",
    "        return link_list\n",
    "\n",
    "    def strn(self) -> str:\n",
    "\n",
    "        strn = 'You can do it'\n",
    "\n",
    "        return strn\n",
    "\n",
    "\n",
    "\n",
    "    \n",
    "        \n",
    "    \n",
    "    \n",
    "  \n",
    "            \n",
    "        \n",
    "\n",
    "        \n"
   ]
  },
  {
   "cell_type": "code",
   "execution_count": 5,
   "metadata": {},
   "outputs": [
    {
     "name": "stdout",
     "output_type": "stream",
     "text": [
      "You can do it\n"
     ]
    }
   ],
   "source": [
    "if __name__ == \"__main__\":\n",
    "    scraper = Scraper()\n",
    "    d = scraper.strn()\n",
    "    print(d)\n",
    "    \n",
    "    \n",
    "    \n"
   ]
  }
 ],
 "metadata": {
  "kernelspec": {
   "display_name": "Python 3.9.12 ('DCP')",
   "language": "python",
   "name": "python3"
  },
  "language_info": {
   "codemirror_mode": {
    "name": "ipython",
    "version": 3
   },
   "file_extension": ".py",
   "mimetype": "text/x-python",
   "name": "python",
   "nbconvert_exporter": "python",
   "pygments_lexer": "ipython3",
   "version": "3.9.12"
  },
  "orig_nbformat": 4,
  "vscode": {
   "interpreter": {
    "hash": "5aeba3a6c10395433c3ffaf8b273e518cbb9ec969e669a41f720a9baabc2caf5"
   }
  }
 },
 "nbformat": 4,
 "nbformat_minor": 2
}
